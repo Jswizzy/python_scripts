{
 "cells": [
  {
   "cell_type": "code",
   "execution_count": 24,
   "metadata": {
    "collapsed": false
   },
   "outputs": [
    {
     "name": "stdout",
     "output_type": "stream",
     "text": [
      "orginal: [[0], 1]\norginal: [['zero'], 1]\nnested: [0]\norginal: [[0], 1]\n[[0], 1]\nshallow: [[0], 1]\ndeep: [[0], 1]\nshallow: [[0], 2]\noriginal: [[0], 1]\noriginal: [['zero'], 1]\ndeep: [[5], 1]\noriginal: [['zero'], 1]\n"
     ]
    }
   ],
   "source": [
    "nested = [0]\n",
    "original = [nested, 1]\n",
    "print('orginal: %s' % original)\n",
    "nested[0] = 'zero'\n",
    "print('orginal: %s' % original)\n",
    "original[0][0] = 0\n",
    "print('nested: %s' % nested)\n",
    "print('orginal: %s' % original)\n",
    "nested = [2]\n",
    "print(original)\n",
    "import copy\n",
    "shallow = original[:]\n",
    "print('shallow: %s' % shallow)\n",
    "deep = copy.deepcopy(original)\n",
    "print('deep: %s' % deep)\n",
    "shallow[1] = 2\n",
    "print('shallow: %s' % shallow)\n",
    "print('original: %s' % original)\n",
    "shallow[0][0] = 'zero'\n",
    "print('original: %s' % original)\n",
    "deep[0][0] = 5\n",
    "print('deep: %s' % deep)\n",
    "print('original: %s' % original)"
   ]
  },
  {
   "cell_type": "code",
   "execution_count": 25,
   "metadata": {},
   "outputs": [
    {
     "name": "stdout",
     "output_type": "stream",
     "text": [
      "[[1, 2, 3], [4, 5, 6], [7, 8, 9]]\n[['zero', 2, 3], [4, 5, 6], [7, 8, 9]]\n"
     ]
    }
   ],
   "source": [
    "x = [[1, 2, 3], [4, 5, 6], [7, 8, 9]]\n",
    "y = copy.deepcopy(x)\n",
    "y[0][0] = 'zero'\n",
    "print(x)\n",
    "print(y)"
   ]
  },
  {
   "cell_type": "code",
   "execution_count": null,
   "metadata": {},
   "outputs": [],
   "source": []
  }
 ],
 "metadata": {
  "kernelspec": {
   "display_name": "Python 2",
   "language": "python",
   "name": "python2"
  },
  "language_info": {
   "codemirror_mode": {
    "name": "ipython",
    "version": 2
   },
   "file_extension": ".py",
   "mimetype": "text/x-python",
   "name": "python",
   "nbconvert_exporter": "python",
   "pygments_lexer": "ipython2",
   "version": "2.7.6"
  }
 },
 "nbformat": 4,
 "nbformat_minor": 0
}
