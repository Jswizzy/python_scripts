{
 "cells": [
  {
   "cell_type": "code",
   "execution_count": 2,
   "metadata": {
    "collapsed": true
   },
   "outputs": [
    {
     "data": {
      "text/plain": [
       "['',\n '/Library/Frameworks/Python.framework/Versions/3.6/lib/python36.zip',\n '/Library/Frameworks/Python.framework/Versions/3.6/lib/python3.6',\n '/Library/Frameworks/Python.framework/Versions/3.6/lib/python3.6/lib-dynload',\n '/Library/Frameworks/Python.framework/Versions/3.6/lib/python3.6/site-packages',\n '/Library/Frameworks/Python.framework/Versions/3.6/lib/python3.6/site-packages/IPython/extensions',\n '/Users/justinsmith/.ipython']"
      ]
     },
     "execution_count": 2,
     "metadata": {},
     "output_type": "execute_result"
    }
   ],
   "source": [
    "import sys\n",
    "sys.path"
   ]
  },
  {
   "cell_type": "code",
   "execution_count": 1,
   "metadata": {},
   "outputs": [
    {
     "data": {
      "text/plain": [
       "['',\n '/Library/Frameworks/Python.framework/Versions/3.6/lib/python36.zip',\n '/Library/Frameworks/Python.framework/Versions/3.6/lib/python3.6',\n '/Library/Frameworks/Python.framework/Versions/3.6/lib/python3.6/lib-dynload',\n '/Library/Frameworks/Python.framework/Versions/3.6/lib/python3.6/site-packages',\n '/Library/Frameworks/Python.framework/Versions/3.6/lib/python3.6/site-packages/IPython/extensions',\n '/Users/justinsmith/.ipython']"
      ]
     },
     "execution_count": 1,
     "metadata": {},
     "output_type": "execute_result"
    }
   ],
   "source": [
    "import sys\n",
    "sys.prefix\n",
    "sys.path"
   ]
  },
  {
   "cell_type": "code",
   "execution_count": 1,
   "metadata": {},
   "outputs": [
    {
     "data": {
      "text/plain": [
       "'/Users/justinsmith'"
      ]
     },
     "execution_count": 1,
     "metadata": {},
     "output_type": "execute_result"
    }
   ],
   "source": [
    "import os\n",
    "\n",
    "\n",
    "os.getcwd()"
   ]
  },
  {
   "cell_type": "code",
   "execution_count": 2,
   "metadata": {},
   "outputs": [
    {
     "data": {
      "text/plain": [
       "['#new#',\n '.hex',\n '.config',\n 'Music',\n '.condarc',\n '.docker',\n '.virtualenvs',\n '.vim',\n '.dart',\n 'go',\n '.DS_Store',\n '.zcompdump-justin’s MacBook Pro-5.2',\n '.CFUserTextEncoding',\n '.zcompdump-justin’s MacBook Pro-5.4.2',\n '.zcompdump-justin’s MacBook Pro-5.3',\n 'Snapshots',\n '.zshrc',\n 'IElixir',\n '.elm',\n '.mix',\n 'Pictures',\n '.atom',\n '.zprofile',\n '.dartServer',\n '.pub-cache',\n '.zsh_history',\n '.ipython',\n 'Desktop',\n 'Library',\n '.matplotlib',\n 'GoglandProjects',\n '.oracle_jre_usage',\n '.emulator_console_auth_token',\n '.spyder-py3',\n '.emacs.d.',\n '.emacs.d',\n '.node_repl_history',\n '.android',\n '.dlv',\n '.cocoapods',\n '.bash_sessions',\n 'flutter',\n '.lein',\n 'PycharmProjects',\n 'Public',\n '.bash_profile-anaconda3.bak',\n '.flutter',\n '.anaconda',\n 'CLionProjects',\n 'Movies',\n '.vimrc',\n '.emacs',\n 'Applications',\n '.gradle',\n '.zsh-update',\n '.emacs~',\n '.Trash',\n 'IdeaProjects',\n '.ipynb_checkpoints',\n '.jupyter',\n '.npm',\n '.exercism.json',\n 'Documents',\n '.m2',\n '.bash_profile',\n 'AndroidStudioProjects',\n '.oh-my-zsh',\n 'Downloads',\n '.python_history',\n '.continuum',\n '.cache',\n '.gitconfig',\n '.zcompdump-justin’s MacBook Pro-5.3.1',\n '.bash_history',\n '.viminfo',\n '.yjp',\n 'Git',\n 'ipykernel',\n '.conda',\n 'AnacondaProjects',\n '.idea']"
      ]
     },
     "execution_count": 2,
     "metadata": {},
     "output_type": "execute_result"
    }
   ],
   "source": [
    "os.listdir(os.curdir)"
   ]
  },
  {
   "cell_type": "code",
   "execution_count": 6,
   "metadata": {},
   "outputs": [
    {
     "data": {
      "text/plain": [
       "PosixPath('bin/utils/disktools')"
      ]
     },
     "execution_count": 6,
     "metadata": {},
     "output_type": "execute_result"
    }
   ],
   "source": [
    "import pathlib\n",
    "\n",
    "\n",
    "cur_path = pathlib.Path()\n",
    "cur_path.cwd()\n",
    "cur_path / 'bin' / 'utils' / 'disktools'"
   ]
  },
  {
   "cell_type": "code",
   "execution_count": 8,
   "metadata": {},
   "outputs": [],
   "source": [
    "from pathlib import Path\n",
    "\n",
    "a_path = Path('some', 'directory', 'path.jpg')"
   ]
  },
  {
   "cell_type": "code",
   "execution_count": 20,
   "metadata": {},
   "outputs": [
    {
     "name": "stdout",
     "output_type": "stream",
     "text": [
      "('{\\n'\n '  \"report\": {\\n'\n '    \"terrestrial_date\": \"2017-12-20\",\\n'\n '    \"sol\": 1910,\\n'\n '    \"ls\": 103.0,\\n'\n '    \"min_temp\": -80.0,\\n'\n '    \"min_temp_fahrenheit\": -112.0,\\n'\n '    \"max_temp\": -23.0,\\n'\n '    \"max_temp_fahrenheit\": -9.4,\\n'\n '    \"pressure\": 794.0,\\n'\n '    \"pressure_string\": \"Higher\",\\n'\n '    \"abs_humidity\": null,\\n'\n '    \"wind_speed\": null,\\n'\n '    \"wind_direction\": \"--\",\\n'\n '    \"atmo_opacity\": \"Sunny\",\\n'\n '    \"season\": \"Month 4\",\\n'\n '    \"sunrise\": \"2017-12-20T11:49:00Z\",\\n'\n '    \"sunset\": \"2017-12-20T23:32:00Z\"\\n'\n '  }\\n'\n '}')\n"
     ]
    }
   ],
   "source": [
    "import json\n",
    "import requests\n",
    "from pprint import pprint as pp\n",
    "\n",
    "\n",
    "response = requests.get(\"http://marsweather.ingenology.com/v1/latest/?format=json\")\n",
    "mars = response.json()\n",
    "pp(json.dumps(mars, indent=2))"
   ]
  },
  {
   "cell_type": "code",
   "execution_count": null,
   "metadata": {},
   "outputs": [],
   "source": []
  }
 ],
 "metadata": {
  "kernelspec": {
   "display_name": "Python 2",
   "language": "python",
   "name": "python2"
  },
  "language_info": {
   "codemirror_mode": {
    "name": "ipython",
    "version": 2
   },
   "file_extension": ".py",
   "mimetype": "text/x-python",
   "name": "python",
   "nbconvert_exporter": "python",
   "pygments_lexer": "ipython2",
   "version": "2.7.6"
  }
 },
 "nbformat": 4,
 "nbformat_minor": 0
}
