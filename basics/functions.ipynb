{
 "cells": [
  {
   "cell_type": "code",
   "execution_count": 16,
   "metadata": {
    "collapsed": true
   },
   "outputs": [
    {
     "name": "stdout",
     "output_type": "stream",
     "text": [
      "4! = 24\n"
     ]
    },
    {
     "data": {
      "text/plain": [
       "'Returns the Factorial of a given number'"
      ]
     },
     "execution_count": 16,
     "metadata": {},
     "output_type": "execute_result"
    }
   ],
   "source": [
    "def fact(n: int) -> int:\n",
    "    \"\"\"Returns the Factorial of a given number\"\"\"\n",
    "    return __fact(n, 1)\n",
    "\n",
    "\n",
    "def __fact(n: int, r: int) -> int:\n",
    "    if n <= 0:\n",
    "        return r\n",
    "    return __fact(n - 1, r * n)\n",
    "\n",
    "\n",
    "print(f\"4! = {fact(4)}\")\n",
    "fact.__doc__"
   ]
  },
  {
   "cell_type": "code",
   "execution_count": 26,
   "metadata": {},
   "outputs": [],
   "source": [
    "def maximum(*n):\n",
    "    \"\"\"Returns the max of given numbers\"\"\"\n",
    "    if len(n) == 0:\n",
    "        return None\n",
    "    return __maximum(n[1:], n[0])\n",
    "    \n",
    "    \n",
    "def __maximum(n, m):\n",
    "    if len(n) == 0:\n",
    "        return m\n",
    "    if n[0] > m:\n",
    "        m = n[0]\n",
    "    return __maximum(n[1:], m)\n",
    "\n",
    "\n",
    "maximum()"
   ]
  },
  {
   "cell_type": "code",
   "execution_count": 28,
   "metadata": {},
   "outputs": [
    {
     "name": "stdout",
     "output_type": "stream",
     "text": [
      "x: 2, y: 1, keys in 'other': ['foo', 'bar']\nThe total of values in 'other' is 7\n"
     ]
    }
   ],
   "source": [
    "def example_fun(x, y, **other):\n",
    "    print(f\"x: {x}, y: {y}, keys in 'other': {list(other.keys())}\")\n",
    "    other_total = 0\n",
    "    for k in other.keys():\n",
    "        other_total += other[k]\n",
    "    print(\"The total of values in 'other' is {0}\".format(other_total))\n",
    "    \n",
    "    \n",
    "example_fun(2, y=\"1\", foo=3, bar=4)"
   ]
  },
  {
   "cell_type": "code",
   "execution_count": 32,
   "metadata": {},
   "outputs": [
    {
     "data": {
      "text/plain": [
       "'<html>hello<html>'"
      ]
     },
     "execution_count": 32,
     "metadata": {},
     "output_type": "execute_result"
    }
   ],
   "source": [
    "def html_wrapper(func):\n",
    "    def inner(*args):\n",
    "        return f\"<html>{func(*args)}<html>\"\n",
    "    return inner   \n",
    "\n",
    "\n",
    "@html_wrapper\n",
    "def myfunction(msg):\n",
    "    return msg\n",
    "\n",
    "\n",
    "myfunction(\"hello\")"
   ]
  },
  {
   "cell_type": "code",
   "execution_count": null,
   "metadata": {},
   "outputs": [],
   "source": []
  }
 ],
 "metadata": {
  "kernelspec": {
   "display_name": "Python 2",
   "language": "python",
   "name": "python2"
  },
  "language_info": {
   "codemirror_mode": {
    "name": "ipython",
    "version": 2
   },
   "file_extension": ".py",
   "mimetype": "text/x-python",
   "name": "python",
   "nbconvert_exporter": "python",
   "pygments_lexer": "ipython2",
   "version": "2.7.6"
  }
 },
 "nbformat": 4,
 "nbformat_minor": 0
}
