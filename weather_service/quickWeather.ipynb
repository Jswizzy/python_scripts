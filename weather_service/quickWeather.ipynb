{
 "cells": [
  {
   "cell_type": "code",
   "execution_count": 15,
   "metadata": {
    "collapsed": true
   },
   "outputs": [
    {
     "name": "stdout",
     "output_type": "stream",
     "text": [
      "{'coord': {'lon': -0.13, 'lat': 51.51}, 'weather': [{'id': 801, 'main': 'Clouds', 'description': 'few clouds', 'icon': '02d'}], 'base': 'stations', 'main': {'temp': 289.33, 'pressure': 1021, 'humidity': 51, 'temp_min': 287.15, 'temp_max': 291.15}, 'visibility': 10000, 'wind': {'speed': 4.1, 'deg': 340}, 'clouds': {'all': 20}, 'dt': 1494168600, 'sys': {'type': 1, 'id': 5091, 'message': 0.0533, 'country': 'GB', 'sunrise': 1494130817, 'sunset': 1494185688}, 'id': 2643743, 'name': 'London', 'cod': 200}\n"
     ]
    }
   ],
   "source": [
    "import json, requests, sys\n",
    "\n",
    "USAGE = 'Usage: quickWeather.py location'\n",
    "APPID = '85fe0e0cdffb470a949ffdaaa5aff099'\n",
    "WEATHER = 'http://api.openweathermap.org/data/2.5/weather?q={}&APPID={}'\n",
    "MSG = '''\n",
    "Current weather in {}:\n",
    "{} - {}\n",
    "'''\n",
    "\n",
    "location = 'London'\n",
    "\n",
    "if len(sys.argv) < 2:\n",
    "    print(USAGE)\n",
    "    sys.exit()\n",
    "#location = ' '.join(sys.argv[1:])\n",
    "\n",
    "url = WEATHER.format(location, APPID)\n",
    "\n",
    "response = requests.get(url)\n",
    "\n",
    "weather_data = json.loads(response.text)\n",
    "\n",
    "print(weather_data)"
   ]
  },
  {
   "cell_type": "code",
   "execution_count": 16,
   "metadata": {},
   "outputs": [
    {
     "name": "stdout",
     "output_type": "stream",
     "text": [
      "\nCurrent weather in London:\nClouds - few clouds\n\n"
     ]
    }
   ],
   "source": [
    "w = weather_data['weather'][0]\n",
    "\n",
    "print(MSG.format(location, w['main'], w['description']))"
   ]
  },
  {
   "cell_type": "code",
   "execution_count": 1,
   "metadata": {},
   "outputs": [],
   "source": [
    ""
   ]
  },
  {
   "cell_type": "code",
   "execution_count": null,
   "metadata": {},
   "outputs": [],
   "source": [
    ""
   ]
  }
 ],
 "metadata": {
  "kernelspec": {
   "display_name": "Python 2",
   "language": "python",
   "name": "python2"
  },
  "language_info": {
   "codemirror_mode": {
    "name": "ipython",
    "version": 2.0
   },
   "file_extension": ".py",
   "mimetype": "text/x-python",
   "name": "python",
   "nbconvert_exporter": "python",
   "pygments_lexer": "ipython2",
   "version": "2.7.6"
  }
 },
 "nbformat": 4,
 "nbformat_minor": 0
}