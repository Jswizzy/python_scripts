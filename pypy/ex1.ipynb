{
 "cells": [
  {
   "cell_type": "code",
   "execution_count": 2,
   "metadata": {
    "collapsed": true
   },
   "outputs": [
    {
     "name": "stdout",
     "output_type": "stream",
     "text": [
      "[[1, 2, 3], [4, 5, 6], [7, 8, 9]]\n"
     ]
    }
   ],
   "source": [
    "% matplotlib inline\n",
    "import pandas as pd\n",
    "import numpy as np\n",
    "\n",
    "grid = [[1, 2, 3], [4, 5, 6], [7, 8, 9]]\n",
    "print(grid)\n"
   ]
  },
  {
   "cell_type": "code",
   "execution_count": 2,
   "metadata": {},
   "outputs": [
    {
     "name": "stdout",
     "output_type": "stream",
     "text": [
      "   0  1  2\n0  1  2  3\n1  4  5  6\n2  7  8  9\n"
     ]
    }
   ],
   "source": [
    "df = pd.DataFrame(grid)\n",
    "print(df)"
   ]
  },
  {
   "cell_type": "code",
   "execution_count": 3,
   "metadata": {
    "collapsed": false
   },
   "outputs": [
    {
     "name": "stdout",
     "output_type": "stream",
     "text": [
      "   one  two  three\n0    1    2      3\n1    4    5      6\n2    7    8      9\n0    2\n1    5\n2    8\nName: two, dtype: int64\n[2, 5, 8]\n[2, 5, 8]\n"
     ]
    }
   ],
   "source": [
    "df = pd.DataFrame(grid, columns=[\"one\", \"two\", \"three\"] )\n",
    "print(df)\n",
    "print(df[\"two\"])\n",
    "print([x[1] for x in grid])\n",
    "print([x for x in df[\"two\"]])"
   ]
  },
  {
   "cell_type": "code",
   "execution_count": 15,
   "metadata": {},
   "outputs": [
    {
     "name": "stdout",
     "output_type": "stream",
     "text": [
      "   one  three\n0    1      3\n1    4      6\n2    7      9\n"
     ]
    }
   ],
   "source": [
    "edges = df[[\"one\", \"three\"]]\n",
    "print(edges)"
   ]
  },
  {
   "cell_type": "code",
   "execution_count": 16,
   "metadata": {},
   "outputs": [
    {
     "name": "stdout",
     "output_type": "stream",
     "text": [
      "   one  three\n0    3      5\n1    6      8\n2    9     11\n"
     ]
    }
   ],
   "source": [
    "print(edges.add(2))"
   ]
  },
  {
   "cell_type": "code",
   "execution_count": 12,
   "metadata": {},
   "outputs": [
    {
     "name": "stdout",
     "output_type": "stream",
     "text": [
      "   Notes     State  State Code Month Day, Year Month Day, Year Code  \\\n0    NaN  Illinois          17    Jan 01, 1979           1979/01/01   \n1    NaN  Illinois          17    Jan 02, 1979           1979/01/02   \n2    NaN  Illinois          17    Jan 03, 1979           1979/01/03   \n3    NaN  Illinois          17    Jan 04, 1979           1979/01/04   \n4    NaN  Illinois          17    May 15, 1979           1979/05/15   \n5    NaN  Illinois          17    May 16, 1979           1979/05/16   \n6    NaN  Illinois          17    May 17, 1979           1979/05/17   \n7    NaN  Illinois          17    May 18, 1979           1979/05/18   \n8    NaN  Illinois          17    May 19, 1979           1979/05/19   \n\n   Avg Daily Max Air Temperature (F)  Record Count for Daily Max Air Temp (F)  \\\n0                              17.48                                      994   \n1                               4.64                                      994   \n2                              11.05                                      994   \n3                               9.51                                      994   \n4                              68.42                                      994   \n5                              70.29                                      994   \n6                              75.34                                      994   \n7                              79.13                                      994   \n8                              74.94                                      994   \n\n   Min Temp for Daily Max Air Temp (F)  Max Temp for Daily Max Air Temp (F)  \\\n0                                  6.0                                 30.5   \n1                                 -6.4                                 15.8   \n2                                 -0.7                                 24.7   \n3                                  0.2                                 27.6   \n4                                 61.0                                 75.1   \n5                                 63.4                                 73.5   \n6                                 64.0                                 80.5   \n7                                 75.5                                 82.1   \n8                                 66.9                                 83.1   \n\n   Avg Daily Min Air Temperature (F)  Record Count for Daily Min Air Temp (F)  \\\n0                               2.89                                      994   \n1                              -9.03                                      994   \n2                              -2.17                                      994   \n3                              -0.43                                      994   \n4                              51.30                                      994   \n5                              48.09                                      994   \n6                              50.84                                      994   \n7                              55.68                                      994   \n8                              58.59                                      994   \n\n   Min Temp for Daily Min Air Temp (F)  Max Temp for Daily Min Air Temp (F)  \\\n0                                -13.6                                 15.8   \n1                                -23.6                                  6.6   \n2                                -18.3                                 12.9   \n3                                -16.3                                 16.3   \n4                                 43.3                                 57.0   \n5                                 41.1                                 53.0   \n6                                 44.3                                 55.7   \n7                                 50.0                                 61.1   \n8                                 50.9                                 63.2   \n\n   Avg Daily Max Heat Index (F)  Record Count for Daily Max Heat Index (F)  \\\n0                           NaN                                          0   \n1                           NaN                                          0   \n2                           NaN                                          0   \n3                           NaN                                          0   \n4                           NaN                                          0   \n5                           NaN                                          0   \n6                         82.60                                          2   \n7                         81.42                                        349   \n8                         82.87                                         78   \n\n   Min for Daily Max Heat Index (F)  Max for Daily Max Heat Index (F)  \\\n0                               NaN                               NaN   \n1                               NaN                               NaN   \n2                               NaN                               NaN   \n3                               NaN                               NaN   \n4                               NaN                               NaN   \n5                               NaN                               NaN   \n6                              82.4                              82.8   \n7                              80.2                              83.4   \n8                              81.6                              85.2   \n\n  Daily Max Heat Index (F) % Coverage  \n0                               0.00%  \n1                               0.00%  \n2                               0.00%  \n3                               0.00%  \n4                               0.00%  \n5                               0.00%  \n6                               0.20%  \n7                              35.11%  \n8                               7.85%  \n"
     ]
    }
   ],
   "source": [
    "import pandas as pd\n",
    "\n",
    "temp = pd.read_csv(\"/Users/justinsmith/\"\n",
    "                   \"PycharmProjects/python_scripts\"\n",
    "                   \"/pypy/temp_data_01.csv\",\n",
    "                   na_values=['Missing'])\n",
    "print(temp)"
   ]
  },
  {
   "cell_type": "code",
   "execution_count": 16,
   "metadata": {},
   "outputs": [
    {
     "data": {
      "text/plain": [
       "'{\"one\":{\"0\":1,\"1\":4,\"2\":7},\"two\":{\"0\":2,\"1\":5,\"2\":8},\"three\":{\"0\":3,\"1\":6,\"2\":9}}'"
      ]
     },
     "execution_count": 16,
     "metadata": {},
     "output_type": "execute_result"
    }
   ],
   "source": [
    "df.to_csv(\"df_out.csv\", index=False)\n",
    "df.to_json()"
   ]
  },
  {
   "cell_type": "code",
   "execution_count": 19,
   "metadata": {},
   "outputs": [],
   "source": [
    "temp = pd.read_csv(\"temp_data_01.csv\", na_values=['Missing'], header=0, names=range(18), usecols=range(4,18))"
   ]
  },
  {
   "cell_type": "code",
   "execution_count": 20,
   "metadata": {},
   "outputs": [
    {
     "name": "stdout",
     "output_type": "stream",
     "text": [
      "           4      5    6     7     8      9    10    11    12     13   14  \\\n0  1979/01/01  17.48  994   6.0  30.5   2.89  994 -13.6  15.8    NaN    0   \n1  1979/01/02   4.64  994  -6.4  15.8  -9.03  994 -23.6   6.6    NaN    0   \n2  1979/01/03  11.05  994  -0.7  24.7  -2.17  994 -18.3  12.9    NaN    0   \n3  1979/01/04   9.51  994   0.2  27.6  -0.43  994 -16.3  16.3    NaN    0   \n4  1979/05/15  68.42  994  61.0  75.1  51.30  994  43.3  57.0    NaN    0   \n5  1979/05/16  70.29  994  63.4  73.5  48.09  994  41.1  53.0    NaN    0   \n6  1979/05/17  75.34  994  64.0  80.5  50.84  994  44.3  55.7  82.60    2   \n7  1979/05/18  79.13  994  75.5  82.1  55.68  994  50.0  61.1  81.42  349   \n8  1979/05/19  74.94  994  66.9  83.1  58.59  994  50.9  63.2  82.87   78   \n\n     15    16      17  \n0   NaN   NaN   0.00%  \n1   NaN   NaN   0.00%  \n2   NaN   NaN   0.00%  \n3   NaN   NaN   0.00%  \n4   NaN   NaN   0.00%  \n5   NaN   NaN   0.00%  \n6  82.4  82.8   0.20%  \n7  80.2  83.4  35.11%  \n8  81.6  85.2   7.85%  \n"
     ]
    }
   ],
   "source": [
    "print(temp)"
   ]
  },
  {
   "cell_type": "code",
   "execution_count": 6,
   "metadata": {},
   "outputs": [
    {
     "name": "stdout",
     "output_type": "stream",
     "text": [
      "   Team member  Territory  Month  Calls\n0        Jorge          3      1    107\n1        Jorge          3      2     88\n2        Jorge          3      3     84\n3        Jorge          3      4    113\n4          Ana          1      1     91\n5          Ana          1      2    129\n6          Ana          1      3     96\n7          Ana          1      4    128\n8          Ali          2      1    120\n9          Ali          2      2     85\n10         Ali          2      3     87\n11         Ali          2      4     87\n"
     ]
    }
   ],
   "source": [
    "calls = pd.read_csv(\"sales_calls.csv\")\n",
    "print(calls)"
   ]
  },
  {
   "cell_type": "code",
   "execution_count": 4,
   "metadata": {},
   "outputs": [
    {
     "name": "stdout",
     "output_type": "stream",
     "text": [
      "    Territory  Month  Amount\n0           1      1   54228\n1           1      2   61640\n2           1      3   43491\n3           1      4   52173\n4           2      1   36061\n5           2      2   44957\n6           2      3   35058\n7           2      4   33855\n8           3      1   50876\n9           3      2   57682\n10          3      3   53689\n11          3      4   49173\n"
     ]
    }
   ],
   "source": [
    "\n",
    "revenue = pd.read_csv(\"sales_revenue.csv\")\n",
    "print(revenue)"
   ]
  },
  {
   "cell_type": "code",
   "execution_count": 7,
   "metadata": {},
   "outputs": [
    {
     "name": "stdout",
     "output_type": "stream",
     "text": [
      "   Team member  Territory  Month  Calls  Amount\n0        Jorge          3      1    107   50876\n1        Jorge          3      2     88   57682\n2        Jorge          3      3     84   53689\n3        Jorge          3      4    113   49173\n4          Ana          1      1     91   54228\n5          Ana          1      2    129   61640\n6          Ana          1      3     96   43491\n7          Ana          1      4    128   52173\n8          Ali          2      1    120   36061\n9          Ali          2      2     85   44957\n10         Ali          2      3     87   35058\n11         Ali          2      4     87   33855\n"
     ]
    }
   ],
   "source": [
    "calls_revenue = pd.merge(calls, revenue, on=['Territory', 'Month'])\n",
    "print(calls_revenue)"
   ]
  },
  {
   "cell_type": "code",
   "execution_count": 8,
   "metadata": {},
   "outputs": [
    {
     "name": "stdout",
     "output_type": "stream",
     "text": [
      "  Team member  Territory  Month  Calls  Amount\n0       Jorge          3      1    107   50876\n1       Jorge          3      2     88   57682\n2       Jorge          3      3     84   53689\n3       Jorge          3      4    113   49173\n"
     ]
    }
   ],
   "source": [
    "print(calls_revenue[calls_revenue.Territory==3])"
   ]
  },
  {
   "cell_type": "code",
   "execution_count": 9,
   "metadata": {},
   "outputs": [
    {
     "name": "stdout",
     "output_type": "stream",
     "text": [
      "  Team member  Territory  Month  Calls  Amount\n1       Jorge          3      2     88   57682\n2       Jorge          3      3     84   53689\n4         Ana          1      1     91   54228\n9         Ali          2      2     85   44957\n"
     ]
    }
   ],
   "source": [
    "print(calls_revenue[calls_revenue.Amount/calls_revenue.Calls>500])"
   ]
  },
  {
   "cell_type": "code",
   "execution_count": 10,
   "metadata": {},
   "outputs": [
    {
     "name": "stdout",
     "output_type": "stream",
     "text": [
      "   Team member  Territory  Month  Calls  Amount  Call_Amount\n0        Jorge          3      1    107   50876   475.476636\n1        Jorge          3      2     88   57682   655.477273\n2        Jorge          3      3     84   53689   639.154762\n3        Jorge          3      4    113   49173   435.159292\n4          Ana          1      1     91   54228   595.912088\n5          Ana          1      2    129   61640   477.829457\n6          Ana          1      3     96   43491   453.031250\n7          Ana          1      4    128   52173   407.601562\n8          Ali          2      1    120   36061   300.508333\n9          Ali          2      2     85   44957   528.905882\n10         Ali          2      3     87   35058   402.965517\n11         Ali          2      4     87   33855   389.137931\n"
     ]
    }
   ],
   "source": [
    "calls_revenue['Call_Amount'] = calls_revenue.Amount/calls_revenue.Calls\n",
    "print(calls_revenue)"
   ]
  },
  {
   "cell_type": "code",
   "execution_count": 11,
   "metadata": {},
   "outputs": [
    {
     "name": "stdout",
     "output_type": "stream",
     "text": [
      "1215\n101.25\n93.5\n129\n84\n"
     ]
    }
   ],
   "source": [
    "print(calls_revenue.Calls.sum())\n",
    "print(calls_revenue.Calls.mean())\n",
    "print(calls_revenue.Calls.median())\n",
    "print(calls_revenue.Calls.max())\n",
    "print(calls_revenue.Calls.min())"
   ]
  },
  {
   "cell_type": "code",
   "execution_count": 12,
   "metadata": {},
   "outputs": [
    {
     "name": "stdout",
     "output_type": "stream",
     "text": [
      "464.2539427570093\n  Team member  Territory  Month  Calls  Amount  Call_Amount\n0       Jorge          3      1    107   50876   475.476636\n1       Jorge          3      2     88   57682   655.477273\n2       Jorge          3      3     84   53689   639.154762\n4         Ana          1      1     91   54228   595.912088\n5         Ana          1      2    129   61640   477.829457\n9         Ali          2      2     85   44957   528.905882\n"
     ]
    }
   ],
   "source": [
    "print(calls_revenue.Call_Amount.median())\n",
    "print(calls_revenue[calls_revenue.Call_Amount >= calls_revenue.Call_Amount.median()])\n",
    " "
   ]
  },
  {
   "cell_type": "code",
   "execution_count": 13,
   "metadata": {},
   "outputs": [
    {
     "name": "stdout",
     "output_type": "stream",
     "text": [
      "       Calls  Amount\nMonth               \n1        318  141165\n2        302  164279\n3        267  132238\n4        328  135201\n"
     ]
    }
   ],
   "source": [
    "print(calls_revenue[['Month', 'Calls', 'Amount']].groupby(['Month']).sum())"
   ]
  },
  {
   "cell_type": "code",
   "execution_count": 17,
   "metadata": {},
   "outputs": [
    {
     "name": "stdout",
     "output_type": "stream",
     "text": [
      "           Calls  Amount\nTerritory               \n1            444  211532\n2            379  149931\n3            392  211420\n"
     ]
    }
   ],
   "source": [
    "print(calls_revenue[['Territory', 'Calls', 'Amount']].groupby(['Territory']).sum())"
   ]
  },
  {
   "cell_type": "code",
   "execution_count": 21,
   "metadata": {},
   "outputs": [
    {
     "data": {
      "text/plain": [
       "<matplotlib.axes._subplots.AxesSubplot at 0x1108f74e0>"
      ]
     },
     "execution_count": 21,
     "metadata": {},
     "output_type": "execute_result"
    },
    {
     "data": {
      "image/png": "[encoded data removed]",
      "text/plain": [
       "<matplotlib.figure.Figure at 0x110a895f8>"
      ]
     },
     "metadata": {},
     "output_type": "display_data"
    }
   ],
   "source": [
    "calls_revenue[['Territory', 'Calls']].groupby(['Territory']).sum().plot.bar()"
   ]
  },
  {
   "cell_type": "code",
   "execution_count": 22,
   "metadata": {},
   "outputs": [
    {
     "data": {
      "text/plain": [
       "<matplotlib.axes._subplots.AxesSubplot at 0x110a30be0>"
      ]
     },
     "execution_count": 22,
     "metadata": {},
     "output_type": "execute_result"
    },
    {
     "data": {
      "image/png": "[encoded data removed]",
      "text/plain": [
       "<matplotlib.figure.Figure at 0x110f78a20>"
      ]
     },
     "metadata": {},
     "output_type": "display_data"
    }
   ],
   "source": [
    "calls_revenue[['Territory', 'Calls']].groupby(['Territory']).sum().plot.line()"
   ]
  },
  {
   "cell_type": "code",
   "execution_count": null,
   "metadata": {},
   "outputs": [],
   "source": []
  }
 ],
 "metadata": {
  "kernelspec": {
   "display_name": "Python 2",
   "language": "python",
   "name": "python2"
  },
  "language_info": {
   "codemirror_mode": {
    "name": "ipython",
    "version": 2
   },
   "file_extension": ".py",
   "mimetype": "text/x-python",
   "name": "python",
   "nbconvert_exporter": "python",
   "pygments_lexer": "ipython2",
   "version": "2.7.6"
  }
 },
 "nbformat": 4,
 "nbformat_minor": 0
}
